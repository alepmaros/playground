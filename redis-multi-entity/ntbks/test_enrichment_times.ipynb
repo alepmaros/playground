{
 "cells": [
  {
   "cell_type": "code",
   "execution_count": 1,
   "id": "01884cf6-751a-4510-835c-8b55c4c3bc9a",
   "metadata": {
    "tags": []
   },
   "outputs": [
    {
     "name": "stdout",
     "output_type": "stream",
     "text": [
      "Collecting redis\n",
      "  Downloading redis-4.5.3-py3-none-any.whl (238 kB)\n",
      "\u001b[2K     \u001b[90m━━━━━━━━━━━━━━━━━━━━━━━━━━━━━━━━━━━━━━━\u001b[0m \u001b[32m238.6/238.6 kB\u001b[0m \u001b[31m1.9 MB/s\u001b[0m eta \u001b[36m0:00:00\u001b[0m00:01\u001b[0m00:01\u001b[0m\n",
      "\u001b[?25hCollecting numpy\n",
      "  Downloading numpy-1.24.2-cp310-cp310-manylinux_2_17_x86_64.manylinux2014_x86_64.whl (17.3 MB)\n",
      "\u001b[2K     \u001b[90m━━━━━━━━━━━━━━━━━━━━━━━━━━━━━━━━━━━━━━━━\u001b[0m \u001b[32m17.3/17.3 MB\u001b[0m \u001b[31m14.0 MB/s\u001b[0m eta \u001b[36m0:00:00\u001b[0m00:01\u001b[0m00:01\u001b[0m\n",
      "\u001b[?25hCollecting lmdb\n",
      "  Downloading lmdb-1.4.0-cp310-cp310-manylinux_2_12_x86_64.manylinux2010_x86_64.whl (306 kB)\n",
      "\u001b[2K     \u001b[90m━━━━━━━━━━━━━━━━━━━━━━━━━━━━━━━━━━━━━━\u001b[0m \u001b[32m306.5/306.5 kB\u001b[0m \u001b[31m13.0 MB/s\u001b[0m eta \u001b[36m0:00:00\u001b[0m\n",
      "\u001b[?25hCollecting scipy\n",
      "  Downloading scipy-1.10.1-cp310-cp310-manylinux_2_17_x86_64.manylinux2014_x86_64.whl (34.4 MB)\n",
      "\u001b[2K     \u001b[90m━━━━━━━━━━━━━━━━━━━━━━━━━━━━━━━━━━━━━━━━\u001b[0m \u001b[32m34.4/34.4 MB\u001b[0m \u001b[31m11.9 MB/s\u001b[0m eta \u001b[36m0:00:00\u001b[0m00:01\u001b[0m00:01\u001b[0m\n",
      "\u001b[?25hCollecting async-timeout>=4.0.2\n",
      "  Downloading async_timeout-4.0.2-py3-none-any.whl (5.8 kB)\n",
      "Installing collected packages: lmdb, numpy, async-timeout, scipy, redis\n",
      "Successfully installed async-timeout-4.0.2 lmdb-1.4.0 numpy-1.24.2 redis-4.5.3 scipy-1.10.1\n"
     ]
    }
   ],
   "source": [
    "!pip install redis numpy lmdb scipy"
   ]
  },
  {
   "cell_type": "code",
   "execution_count": 2,
   "id": "f824f2b6-c0b3-442b-9b9e-3dde8d26b835",
   "metadata": {
    "tags": []
   },
   "outputs": [],
   "source": [
    "import redis\n",
    "import uuid\n",
    "import pickle\n",
    "import random\n",
    "import time\n",
    "import numpy as np\n",
    "import lmdb"
   ]
  },
  {
   "cell_type": "code",
   "execution_count": 3,
   "id": "352a74be-6f5d-4039-ae73-47cc1167b820",
   "metadata": {
    "tags": []
   },
   "outputs": [],
   "source": [
    "uuids = set(str(uuid.uuid4()) for _ in range(1000000))"
   ]
  },
  {
   "cell_type": "code",
   "execution_count": 4,
   "id": "61cdafd1-0529-4eed-8a9c-bb05dd8d5fc3",
   "metadata": {
    "tags": []
   },
   "outputs": [],
   "source": [
    "uuids = list(uuids)"
   ]
  },
  {
   "cell_type": "code",
   "execution_count": 5,
   "id": "13341c51-57f6-4073-81c5-d980d051b6fb",
   "metadata": {
    "tags": []
   },
   "outputs": [],
   "source": [
    "# with open(\"uuids.pickle\", \"wb\") as f:\n",
    "#     pickle.dump(uuids, f)"
   ]
  },
  {
   "cell_type": "markdown",
   "id": "e7d634d1-5a38-40ac-ad21-123c12f01c04",
   "metadata": {},
   "source": [
    "# Redis"
   ]
  },
  {
   "cell_type": "code",
   "execution_count": 6,
   "id": "5938ee3e-9283-4942-b860-60af29ee9194",
   "metadata": {
    "tags": []
   },
   "outputs": [],
   "source": [
    "# Connect to Redis\n",
    "redis_client = redis.Redis(host='localhost', port=6379)"
   ]
  },
  {
   "cell_type": "code",
   "execution_count": 7,
   "id": "79eb27fb-7f13-433f-a6a8-aa934dbd4a69",
   "metadata": {
    "tags": []
   },
   "outputs": [],
   "source": [
    "# Set the feature data in Redis\n",
    "for entity_id in uuids:\n",
    "    feature_value = round(random.random(), 4)\n",
    "    redis_client.set(entity_id, feature_value)"
   ]
  },
  {
   "cell_type": "code",
   "execution_count": 8,
   "id": "0b5fd9bb-550c-4ffa-a65b-6dab6791b59b",
   "metadata": {
    "tags": []
   },
   "outputs": [
    {
     "data": {
      "text/plain": [
       "[b'0.3669', b'0.3996']"
      ]
     },
     "execution_count": 8,
     "metadata": {},
     "output_type": "execute_result"
    }
   ],
   "source": [
    "redis_client.mget([uuids[0], uuids[1]])"
   ]
  },
  {
   "cell_type": "markdown",
   "id": "b7a4b682-2668-429a-a4c3-ea74cbb7145b",
   "metadata": {},
   "source": [
    "## Lookup test for 1000 features"
   ]
  },
  {
   "cell_type": "code",
   "execution_count": 20,
   "id": "51c0e071-448e-4063-b58e-fd5ba62749df",
   "metadata": {
    "tags": []
   },
   "outputs": [
    {
     "name": "stdout",
     "output_type": "stream",
     "text": [
      "6.493175029754639 0.17160608565119145 6.296029424667358\n"
     ]
    }
   ],
   "source": [
    "times = []\n",
    "for _ in range(1000):\n",
    "    \n",
    "    ids_list = random.sample(uuids, 1000)\n",
    "    \n",
    "    start = time.time()\n",
    "    features = redis_client.mget(ids_list)\n",
    "    features = [float(feat) for feat in features]\n",
    "    end = time.time()\n",
    "    \n",
    "    times.append((end-start)*1000)\n",
    "    \n",
    "print(np.mean(times), np.std(times), np.percentile(times, 0.99))"
   ]
  },
  {
   "cell_type": "markdown",
   "id": "09efad50-6ec4-42d0-89da-713917064c8e",
   "metadata": {
    "tags": []
   },
   "source": [
    "## Pipeline"
   ]
  },
  {
   "cell_type": "code",
   "execution_count": 22,
   "id": "a6f19393-bb71-46e8-bbbe-0d5a019ff45c",
   "metadata": {
    "tags": []
   },
   "outputs": [
    {
     "name": "stdout",
     "output_type": "stream",
     "text": [
      "8.946181535720825 1.8580869229525314 8.66556167602539\n"
     ]
    }
   ],
   "source": [
    "times = []\n",
    "for _ in range(1000):\n",
    "    \n",
    "    ids_list = random.sample(uuids, 1000)\n",
    "    \n",
    "    start = time.time()\n",
    "    pipe = redis_client.pipeline()\n",
    "    for _id in ids_list:\n",
    "        pipe.get(_id)\n",
    "    \n",
    "    features = pipe.execute()\n",
    "    features = [float(feat) if feat else None for feat in features ]\n",
    "    end = time.time()\n",
    "    times.append((end-start)*1000)\n",
    "    \n",
    "print(np.mean(times), np.std(times), np.percentile(times, 0.99))"
   ]
  },
  {
   "cell_type": "code",
   "execution_count": 17,
   "id": "07a20749-5408-459d-8985-f387cc7b6100",
   "metadata": {
    "tags": []
   },
   "outputs": [
    {
     "data": {
      "text/plain": [
       "[b'0.7777', b'0.1066', b'0.3673', b'0.6348', b'0.0437', None]"
      ]
     },
     "execution_count": 17,
     "metadata": {},
     "output_type": "execute_result"
    }
   ],
   "source": [
    "features"
   ]
  },
  {
   "cell_type": "markdown",
   "id": "c9ec6799-ac7a-45d6-8677-9f9c8432817d",
   "metadata": {},
   "source": [
    "# LMDB"
   ]
  },
  {
   "cell_type": "code",
   "execution_count": 8,
   "id": "99de0d4b-5d23-42ac-8a98-0cd08412a1f7",
   "metadata": {
    "tags": []
   },
   "outputs": [],
   "source": [
    "lmdb_env = lmdb.open(\"/tmp/lmdb\", map_size=int(2e9))"
   ]
  },
  {
   "cell_type": "code",
   "execution_count": 9,
   "id": "ee6488de-aba2-4340-86d9-38029815b5f3",
   "metadata": {
    "tags": []
   },
   "outputs": [],
   "source": [
    "with lmdb_env.begin(write=True) as txn:\n",
    "    for entity_id in sorted(uuids):\n",
    "        feature_value = round(random.random(), 4)\n",
    "        txn.put(f\"{entity_id}__feature_popularity\".encode(), str(feature_value).encode(), append=True) "
   ]
  },
  {
   "cell_type": "code",
   "execution_count": 10,
   "id": "4970d590-fe62-4e51-9e6f-291767aea452",
   "metadata": {
    "tags": []
   },
   "outputs": [
    {
     "name": "stdout",
     "output_type": "stream",
     "text": [
      "[b'4cae0707-ee2b-4b63-b847-fc228253d6bd__feature_popularity', b'f3bfc444-741e-4dc4-8fd4-de28fc9c0136__feature_popularity', b'aa__feature_popularity']\n",
      "[b'0.1699', b'0.926', None] 3\n"
     ]
    }
   ],
   "source": [
    "with lmdb_env.begin(write=False) as txn:\n",
    "    keys = [f\"{uuids[0]}__feature_popularity\".encode(), f\"{uuids[1]}__feature_popularity\".encode(), f\"aa__feature_popularity\".encode()]\n",
    "    print(keys)\n",
    "    with txn.cursor() as cursor:\n",
    "        feat = dict(cursor.getmulti(keys))\n",
    "        feat = [feat[key] if key in feat else None for key in keys]\n",
    "        print(feat, len(feat))"
   ]
  },
  {
   "cell_type": "markdown",
   "id": "2caee338-c750-4695-b537-33c9e75b03c8",
   "metadata": {},
   "source": [
    "## Lookup test for 1000 features"
   ]
  },
  {
   "cell_type": "code",
   "execution_count": 46,
   "id": "4004f51d-8000-4d0e-8b4e-6fd24b863e67",
   "metadata": {
    "tags": []
   },
   "outputs": [
    {
     "name": "stdout",
     "output_type": "stream",
     "text": [
      "1.2671126524607341 0.08550261755062631 1.1909008026123047\n"
     ]
    }
   ],
   "source": [
    "times = []\n",
    "for _ in range(3000):\n",
    "    \n",
    "    ids_list = list(sorted(random.sample(uuids, 1000), reverse=True))\n",
    "    \n",
    "    start = time.time()\n",
    "    keys = [ f\"{_uuid}__feature_popularity\".encode() for _uuid in ids_list]\n",
    "    with lmdb_env.begin(write=False) as txn:\n",
    "        cursor = txn.cursor()\n",
    "        features = dict(cursor.getmulti(keys))\n",
    "    features = [features[key] if key in features else None for key in keys]\n",
    "    end = time.time()\n",
    "    \n",
    "    times.append((end-start)*1000)\n",
    "    \n",
    "print(np.mean(times), np.std(times), np.percentile(times, 0.99))"
   ]
  },
  {
   "cell_type": "code",
   "execution_count": 47,
   "id": "b12fcf04-0fba-45c7-9b5d-1c85372a3860",
   "metadata": {
    "tags": []
   },
   "outputs": [
    {
     "name": "stdout",
     "output_type": "stream",
     "text": [
      "1.259629487991333 0.6777019895160604 1.169443130493164\n"
     ]
    }
   ],
   "source": [
    "times2 = []\n",
    "for _ in range(3000):\n",
    "    \n",
    "    ids_list = random.sample(uuids, 1000)\n",
    "    \n",
    "    start = time.time()\n",
    "    keys = [ f\"{_uuid}__feature_popularity\".encode() for _uuid in ids_list]\n",
    "    # keys = list(sorted(keys, reverse=True))\n",
    "    \n",
    "    with lmdb_env.begin(write=False) as txn:\n",
    "        cursor = txn.cursor()\n",
    "        features = {}\n",
    "        for key in keys:\n",
    "            features[key] = txn.get(key)\n",
    "    features = [features[key] if key in features else None for key in keys]\n",
    "    end = time.time()\n",
    "    \n",
    "    times2.append((end-start)*1000)\n",
    "    \n",
    "print(np.mean(times2), np.std(times2), np.percentile(times2, 0.99))"
   ]
  },
  {
   "cell_type": "code",
   "execution_count": 48,
   "id": "47b814d4-c004-4804-a854-40244d6d1ce8",
   "metadata": {
    "tags": []
   },
   "outputs": [],
   "source": [
    "from scipy.stats import ks_2samp, ttest_ind"
   ]
  },
  {
   "cell_type": "code",
   "execution_count": 49,
   "id": "165f1f69-e61e-48ee-98f4-9b06adf68d63",
   "metadata": {
    "tags": []
   },
   "outputs": [
    {
     "data": {
      "text/plain": [
       "KstestResult(statistic=0.2826666666666667, pvalue=6.103183174756487e-106, statistic_location=1.2063980102539062, statistic_sign=-1)"
      ]
     },
     "execution_count": 49,
     "metadata": {},
     "output_type": "execute_result"
    }
   ],
   "source": [
    "ks_2samp(times, times2)"
   ]
  },
  {
   "cell_type": "code",
   "execution_count": 50,
   "id": "fa8c1ff3-9e68-449d-9627-bb16a25ed020",
   "metadata": {
    "tags": []
   },
   "outputs": [
    {
     "data": {
      "text/plain": [
       "Ttest_indResult(statistic=0.5999367852441286, pvalue=0.5485710291143395)"
      ]
     },
     "execution_count": 50,
     "metadata": {},
     "output_type": "execute_result"
    }
   ],
   "source": [
    "ttest_ind(times, times2)"
   ]
  },
  {
   "cell_type": "code",
   "execution_count": null,
   "id": "4b0df9b9-13c5-44cc-9345-b4347949cabc",
   "metadata": {},
   "outputs": [],
   "source": []
  }
 ],
 "metadata": {
  "kernelspec": {
   "display_name": "Python 3 (ipykernel)",
   "language": "python",
   "name": "python3"
  },
  "language_info": {
   "codemirror_mode": {
    "name": "ipython",
    "version": 3
   },
   "file_extension": ".py",
   "mimetype": "text/x-python",
   "name": "python",
   "nbconvert_exporter": "python",
   "pygments_lexer": "ipython3",
   "version": "3.10.9"
  }
 },
 "nbformat": 4,
 "nbformat_minor": 5
}
