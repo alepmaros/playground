{
 "cells": [
  {
   "cell_type": "code",
   "execution_count": 1,
   "id": "01884cf6-751a-4510-835c-8b55c4c3bc9a",
   "metadata": {
    "tags": []
   },
   "outputs": [
    {
     "name": "stdout",
     "output_type": "stream",
     "text": [
      "Collecting redis\n",
      "  Downloading redis-4.5.1-py3-none-any.whl (238 kB)\n",
      "\u001b[2K     \u001b[90m━━━━━━━━━━━━━━━━━━━━━━━━━━━━━━━━━━━━━━━\u001b[0m \u001b[32m238.5/238.5 kB\u001b[0m \u001b[31m3.6 MB/s\u001b[0m eta \u001b[36m0:00:00\u001b[0ma \u001b[36m0:00:01\u001b[0m\n",
      "\u001b[?25hCollecting numpy\n",
      "  Downloading numpy-1.24.2-cp310-cp310-manylinux_2_17_x86_64.manylinux2014_x86_64.whl (17.3 MB)\n",
      "\u001b[2K     \u001b[90m━━━━━━━━━━━━━━━━━━━━━━━━━━━━━━━━━━━━━━━━\u001b[0m \u001b[32m17.3/17.3 MB\u001b[0m \u001b[31m1.6 MB/s\u001b[0m eta \u001b[36m0:00:00\u001b[0m00:01\u001b[0m00:01\u001b[0m\n",
      "\u001b[?25hCollecting lmdb\n",
      "  Downloading lmdb-1.4.0-cp310-cp310-manylinux_2_12_x86_64.manylinux2010_x86_64.whl (306 kB)\n",
      "\u001b[2K     \u001b[90m━━━━━━━━━━━━━━━━━━━━━━━━━━━━━━━━━━━━━━━\u001b[0m \u001b[32m306.5/306.5 kB\u001b[0m \u001b[31m1.8 MB/s\u001b[0m eta \u001b[36m0:00:00\u001b[0ma \u001b[36m0:00:01\u001b[0m\n",
      "\u001b[?25hCollecting async-timeout>=4.0.2\n",
      "  Downloading async_timeout-4.0.2-py3-none-any.whl (5.8 kB)\n",
      "Installing collected packages: lmdb, numpy, async-timeout, redis\n",
      "Successfully installed async-timeout-4.0.2 lmdb-1.4.0 numpy-1.24.2 redis-4.5.1\n"
     ]
    }
   ],
   "source": [
    "!pip install redis numpy lmdb"
   ]
  },
  {
   "cell_type": "code",
   "execution_count": 2,
   "id": "f824f2b6-c0b3-442b-9b9e-3dde8d26b835",
   "metadata": {
    "tags": []
   },
   "outputs": [],
   "source": [
    "import redis\n",
    "import uuid\n",
    "import pickle\n",
    "import random\n",
    "import time\n",
    "import numpy as np\n",
    "import lmdb"
   ]
  },
  {
   "cell_type": "code",
   "execution_count": 3,
   "id": "352a74be-6f5d-4039-ae73-47cc1167b820",
   "metadata": {},
   "outputs": [],
   "source": [
    "uuids = set(str(uuid.uuid4()) for _ in range(1000000))"
   ]
  },
  {
   "cell_type": "code",
   "execution_count": 4,
   "id": "61cdafd1-0529-4eed-8a9c-bb05dd8d5fc3",
   "metadata": {},
   "outputs": [],
   "source": [
    "uuids = list(uuids)"
   ]
  },
  {
   "cell_type": "code",
   "execution_count": 5,
   "id": "13341c51-57f6-4073-81c5-d980d051b6fb",
   "metadata": {},
   "outputs": [],
   "source": [
    "# with open(\"uuids.pickle\", \"wb\") as f:\n",
    "#     pickle.dump(uuids, f)"
   ]
  },
  {
   "cell_type": "markdown",
   "id": "e7d634d1-5a38-40ac-ad21-123c12f01c04",
   "metadata": {},
   "source": [
    "# Redis"
   ]
  },
  {
   "cell_type": "code",
   "execution_count": 6,
   "id": "5938ee3e-9283-4942-b860-60af29ee9194",
   "metadata": {
    "tags": []
   },
   "outputs": [],
   "source": [
    "# Connect to Redis\n",
    "redis_client = redis.Redis(host='localhost', port=6379)"
   ]
  },
  {
   "cell_type": "code",
   "execution_count": 7,
   "id": "79eb27fb-7f13-433f-a6a8-aa934dbd4a69",
   "metadata": {
    "tags": []
   },
   "outputs": [],
   "source": [
    "# Set the feature data in Redis\n",
    "for entity_id in uuids:\n",
    "    feature_value = round(random.random(), 4)\n",
    "    redis_client.hset(\"feature_popularity\", entity_id, feature_value)"
   ]
  },
  {
   "cell_type": "code",
   "execution_count": 8,
   "id": "ff35065b-4dee-4a00-bc12-6a2b26142638",
   "metadata": {
    "tags": []
   },
   "outputs": [
    {
     "data": {
      "text/plain": [
       "[b'0.3779', b'0.6428']"
      ]
     },
     "execution_count": 8,
     "metadata": {},
     "output_type": "execute_result"
    }
   ],
   "source": [
    "redis_client.hmget(\"feature_popularity\", [uuids[0], uuids[1]])"
   ]
  },
  {
   "cell_type": "markdown",
   "id": "b7a4b682-2668-429a-a4c3-ea74cbb7145b",
   "metadata": {},
   "source": [
    "## Lookup test for 1000 features"
   ]
  },
  {
   "cell_type": "code",
   "execution_count": 9,
   "id": "51c0e071-448e-4063-b58e-fd5ba62749df",
   "metadata": {
    "tags": []
   },
   "outputs": [
    {
     "name": "stdout",
     "output_type": "stream",
     "text": [
      "3.2391490936279297 0.11083147143054363 3.1380653381347656\n"
     ]
    }
   ],
   "source": [
    "times = []\n",
    "for _ in range(1000):\n",
    "    \n",
    "    ids_list = random.sample(uuids, 1000)\n",
    "    \n",
    "    start = time.time()\n",
    "    features = redis_client.hmget(\"feature_popularity\", ids_list)\n",
    "    features = [float(feat) for feat in features]\n",
    "    end = time.time()\n",
    "    \n",
    "    times.append((end-start)*1000)\n",
    "    \n",
    "print(np.mean(times), np.std(times), np.percentile(times, 0.99))"
   ]
  },
  {
   "cell_type": "markdown",
   "id": "c9ec6799-ac7a-45d6-8677-9f9c8432817d",
   "metadata": {},
   "source": [
    "# LMDB"
   ]
  },
  {
   "cell_type": "code",
   "execution_count": 10,
   "id": "99de0d4b-5d23-42ac-8a98-0cd08412a1f7",
   "metadata": {
    "tags": []
   },
   "outputs": [],
   "source": [
    "lmdb_env = lmdb.open(\"/tmp/lmdb\", map_size=int(1e9))"
   ]
  },
  {
   "cell_type": "code",
   "execution_count": 11,
   "id": "ee6488de-aba2-4340-86d9-38029815b5f3",
   "metadata": {
    "tags": []
   },
   "outputs": [],
   "source": [
    "with lmdb_env.begin(write=True) as txn:\n",
    "    for entity_id in sorted(uuids):\n",
    "        feature_value = round(random.random(), 4)\n",
    "        txn.put(f\"{entity_id}__feature_popularity\".encode(), str(feature_value).encode(), append=True) "
   ]
  },
  {
   "cell_type": "code",
   "execution_count": 19,
   "id": "4970d590-fe62-4e51-9e6f-291767aea452",
   "metadata": {
    "tags": []
   },
   "outputs": [
    {
     "name": "stdout",
     "output_type": "stream",
     "text": [
      "[(b'0dcb1936-98d6-4053-8694-6a9cd35341f6__feature_popularity', b'0.9508'), (b'656b8b4f-96d3-40bc-8d34-9a70021a84ba__feature_popularity', b'0.9425')]\n"
     ]
    }
   ],
   "source": [
    "with lmdb_env.begin(write=False) as txn:\n",
    "    cursor = txn.cursor()  \n",
    "    feat = cursor.getmulti([f\"{uuids[0]}__feature_popularity\".encode(), f\"{uuids[1]}__feature_popularity\".encode()])\n",
    "    print(feat)"
   ]
  },
  {
   "cell_type": "markdown",
   "id": "2caee338-c750-4695-b537-33c9e75b03c8",
   "metadata": {},
   "source": [
    "## Lookup test for 1000 features"
   ]
  },
  {
   "cell_type": "code",
   "execution_count": 22,
   "id": "4004f51d-8000-4d0e-8b4e-6fd24b863e67",
   "metadata": {
    "tags": []
   },
   "outputs": [
    {
     "name": "stdout",
     "output_type": "stream",
     "text": [
      "1.1198091506958008 0.3922207714158349 0.9849071502685547\n"
     ]
    }
   ],
   "source": [
    "times = []\n",
    "for _ in range(1000):\n",
    "    \n",
    "    ids_list = random.sample(uuids, 1000)\n",
    "    \n",
    "    start = time.time()\n",
    "    __keys = [ f\"{_uuid}__feature_popularity\".encode() for _uuid in ids_list]\n",
    "    with lmdb_env.begin(write=False) as txn:\n",
    "        cursor = txn.cursor()\n",
    "        features = cursor.getmulti(__keys)\n",
    "    features = [float(feat[1]) for feat in features]\n",
    "    end = time.time()\n",
    "    \n",
    "    times.append((end-start)*1000)\n",
    "    \n",
    "print(np.mean(times), np.std(times), np.percentile(times, 0.99))"
   ]
  },
  {
   "cell_type": "code",
   "execution_count": null,
   "id": "e69b03f0-a5e4-4a85-82a6-16da2ec894fa",
   "metadata": {},
   "outputs": [],
   "source": []
  }
 ],
 "metadata": {
  "kernelspec": {
   "display_name": "Python 3 (ipykernel)",
   "language": "python",
   "name": "python3"
  },
  "language_info": {
   "codemirror_mode": {
    "name": "ipython",
    "version": 3
   },
   "file_extension": ".py",
   "mimetype": "text/x-python",
   "name": "python",
   "nbconvert_exporter": "python",
   "pygments_lexer": "ipython3",
   "version": "3.10.9"
  }
 },
 "nbformat": 4,
 "nbformat_minor": 5
}
